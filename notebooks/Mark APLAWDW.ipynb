{
 "cells": [
  {
   "cell_type": "code",
   "execution_count": 1,
   "id": "0b4624cb-0651-49aa-b690-8e67bd2a2ddc",
   "metadata": {},
   "outputs": [],
   "source": [
    "# MARK APLAWDW\n",
    "# 取一些 subset 手動標注"
   ]
  },
  {
   "cell_type": "code",
   "execution_count": 2,
   "id": "102eee51-0267-4926-a3c3-f409099fb2b1",
   "metadata": {},
   "outputs": [],
   "source": [
    "import sys\n",
    "sys.path.append(\"../\")"
   ]
  },
  {
   "cell_type": "code",
   "execution_count": 3,
   "id": "d91b1634-f147-4d8a-9ed7-b429d8d61bb8",
   "metadata": {},
   "outputs": [],
   "source": [
    "import torch\n",
    "import torchaudio\n",
    "from pathlib import Path\n",
    "from tgt import write_to_file, TextGrid, IntervalTier, PointTier, Interval, Point\n",
    "from src.bpdp import bpdp, bp\n"
   ]
  },
  {
   "cell_type": "code",
   "execution_count": 4,
   "id": "d51da078-a878-4687-bcf1-07f07511c705",
   "metadata": {},
   "outputs": [],
   "source": [
    "for wav_fp in sorted(Path(\"../data/APLAWDW/\").glob(\"**/*.wav\")):\n",
    "    if wav_fp.name.startswith(\"ac\"):\n",
    "        continue\n",
    "    # 只取 5 這一組\n",
    "    if not wav_fp.stem.endswith(\"5\"):\n",
    "        continue\n",
    "    \n",
    "    wav, sr = torchaudio.load(str(wav_fp))\n",
    "    end_time = wav.shape[-1] / sr\n",
    "\n",
    "    egg, sr = torchaudio.load(str(wav_fp.with_suffix(\".egg\")))\n",
    "    \n",
    "    # \n",
    "    p = bpdp(egg[0].view(-1), sr, wl_0=0.05, wl_1=0.002, f_lo=50.0, f_hi=350.0, beam_size=5, filt=\"bp1\")\n",
    "\n",
    "    \n",
    "    # create textgrid\n",
    "    tg_fp = Path(\"../data/MAPLAWDW/\")/ f\"{wav_fp.stem}.TextGrid\"\n",
    "    out_fp = Path(\"../data/MAPLAWDW/\")/ f\"{wav_fp.stem}.wav\"\n",
    "\n",
    "    # concat wav, egg\n",
    "    wav = torch.cat((wav, egg), dim=0)\n",
    "    torchaudio.save(str(out_fp), wav, sr)\n",
    "\n",
    "    tg = TextGrid()\n",
    "    vuv_tier = IntervalTier(0.0, end_time, name=\"vuv\")\n",
    "    epoch_tier = PointTier(0.0, end_time, name=\"epoch\")\n",
    "\n",
    "    for p_n in p:\n",
    "        point = Point(p_n/sr)\n",
    "        epoch_tier.add_point(point)\n",
    "    tg.add_tier(vuv_tier)\n",
    "    tg.add_tier(epoch_tier)\n",
    "\n",
    "    write_to_file(tg, str(tg_fp))"
   ]
  },
  {
   "cell_type": "code",
   "execution_count": null,
   "id": "e6da6f0d-ff52-4d45-a5c4-e85ea063d2dc",
   "metadata": {},
   "outputs": [],
   "source": []
  }
 ],
 "metadata": {
  "kernelspec": {
   "display_name": "Python 3 (ipykernel)",
   "language": "python",
   "name": "python3"
  },
  "language_info": {
   "codemirror_mode": {
    "name": "ipython",
    "version": 3
   },
   "file_extension": ".py",
   "mimetype": "text/x-python",
   "name": "python",
   "nbconvert_exporter": "python",
   "pygments_lexer": "ipython3",
   "version": "3.12.7"
  }
 },
 "nbformat": 4,
 "nbformat_minor": 5
}
