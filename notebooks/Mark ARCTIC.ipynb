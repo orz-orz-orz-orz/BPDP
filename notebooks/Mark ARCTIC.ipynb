{
 "cells": [
  {
   "cell_type": "code",
   "execution_count": 2,
   "id": "6e51c7e8-c321-43cc-9cd7-155952d90770",
   "metadata": {},
   "outputs": [],
   "source": [
    "import sys\n",
    "sys.path.append(\"../\")"
   ]
  },
  {
   "cell_type": "code",
   "execution_count": 4,
   "id": "53b37a22-6bec-4a96-ad37-5a792a70bc1c",
   "metadata": {},
   "outputs": [],
   "source": [
    "import torch\n",
    "import torchaudio\n",
    "from pathlib import Path\n",
    "from tgt import write_to_file, TextGrid, IntervalTier, PointTier, Interval, Point\n",
    "from src.bpdp import bpdp, bp\n"
   ]
  },
  {
   "cell_type": "code",
   "execution_count": 7,
   "id": "1275408a-6f58-4e27-ab5d-ba10bfd90bbd",
   "metadata": {},
   "outputs": [],
   "source": [
    "for wav_fp in Path(\"../data/CMU_ARCTICS_SJB30/\").glob(\"**/*.wav\"):\n",
    "    # \n",
    "    wav, sr = torchaudio.load(str(wav_fp))\n",
    "    end_time = wav.shape[-1] / sr\n",
    "\n",
    "    # \n",
    "    p = bpdp(-wav[1], sr, fl=12000, f_lo=50.0, f_hi=550.0, beam_size=5)\n",
    "    \n",
    "    # create textgrid\n",
    "    tg_fp = wav_fp.with_suffix(\".TextGrid\")\n",
    "\n",
    "    tg = TextGrid()\n",
    "    vuv_tier = IntervalTier(0.0, end_time, name=\"vuv\")\n",
    "    epoch_tier = PointTier(0.0, end_time, name=\"epoch\")\n",
    "\n",
    "    for p_n in p:\n",
    "        point = Point(p_n/sr)\n",
    "        epoch_tier.add_point(point)\n",
    "    tg.add_tier(vuv_tier)\n",
    "    tg.add_tier(epoch_tier)\n",
    "\n",
    "    write_to_file(tg, str(tg_fp))\n",
    "    \n",
    "\n",
    "    "
   ]
  },
  {
   "cell_type": "code",
   "execution_count": null,
   "id": "8a76450f-af97-476b-b135-1f292ade9713",
   "metadata": {},
   "outputs": [],
   "source": [
    "# slt a0002 有很多不規則的發音，可以參考\n",
    "# bdl a0001 同樣很多不規則的地方 "
   ]
  }
 ],
 "metadata": {
  "kernelspec": {
   "display_name": "Python 3 (ipykernel)",
   "language": "python",
   "name": "python3"
  },
  "language_info": {
   "codemirror_mode": {
    "name": "ipython",
    "version": 3
   },
   "file_extension": ".py",
   "mimetype": "text/x-python",
   "name": "python",
   "nbconvert_exporter": "python",
   "pygments_lexer": "ipython3",
   "version": "3.12.7"
  }
 },
 "nbformat": 4,
 "nbformat_minor": 5
}
